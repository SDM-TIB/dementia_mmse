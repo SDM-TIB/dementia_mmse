{
 "cells": [
  {
   "cell_type": "markdown",
   "metadata": {},
   "source": [
    "------\n",
    "# **Dementia Patients -- Analysis and Prediction**\n",
    "### ***Author : Akhilesh Vyas***\n",
    "### ****Date : August, 2019****\n",
    "\n"
   ]
  },
  {
   "cell_type": "markdown",
   "metadata": {},
   "source": [
    "# ***Result Plots***"
   ]
  },
  {
   "cell_type": "markdown",
   "metadata": {},
   "source": [
    "- <a href='#00'>0. Setup </a>\n",
    "    - <a href='#00.1'>0.1. Load libraries </a>\n",
    "    - <a href='#00.2'>0.2. Define paths </a>\n",
    "\n",
    "- <a href='#01'>1. Data Preparation </a>  \n",
    "    - <a href='#01.1'>1.1. Read Data </a> \n",
    "    - <a href='#01.2'>1.2. Prepare data  </a>\n",
    "    - <a href='#01.3'>1.3. Prepare target </a>\n",
    "    - <a href='#01.4'>1.4. Removing Unwanted Features </a>\n",
    "    \n",
    "- <a href='#02'>2. Data Analysis</a> \n",
    "    - <a href='#02.1'>2.1. Feature </a> \n",
    "    - <a href='#02.2'>2.2. Target </a> \n",
    "    \n",
    "- <a href='#03'>3. Data Preparation and Vector Transformation</a>\n",
    "\n",
    "- <a href='#04'>4. Analysis and Imputing Missing Values </a>\n",
    "\n",
    "- <a href='#05'>5. Feature Analysis</a> \n",
    "    - <a href='#05.1'>5.1. Correlation Matrix</a>\n",
    "    - <a href='#05.2'>5.2. Feature and target </a>\n",
    "    - <a href='#05.3'>5.3. Feature Selection Models </a>\n",
    "    \n",
    "- <a href='#06'>6.Machine Learning -Classification Model</a> "
   ]
  },
  {
   "cell_type": "markdown",
   "metadata": {},
   "source": [
    "# <a id='00'>0. Setup </a>"
   ]
  },
  {
   "cell_type": "markdown",
   "metadata": {},
   "source": [
    "# <a id='00.1'>0.1 Load libraries </a>"
   ]
  },
  {
   "cell_type": "markdown",
   "metadata": {},
   "source": [
    "Loading Libraries"
   ]
  },
  {
   "cell_type": "code",
   "execution_count": 1,
   "metadata": {},
   "outputs": [
    {
     "name": "stderr",
     "output_type": "stream",
     "text": [
      "/home/vyasa/pythonEnv/lib/python3.6/site-packages/sklearn/utils/deprecation.py:144: FutureWarning: The sklearn.datasets.base module is  deprecated in version 0.22 and will be removed in version 0.24. The corresponding classes / functions should instead be imported from sklearn.datasets. Anything that cannot be imported from sklearn.datasets is now part of the private API.\n",
      "  warnings.warn(message, FutureWarning)\n"
     ]
    }
   ],
   "source": [
    "import sys\n",
    "sys.path.insert(1, '../preprocessing/')\n",
    "import numpy as np\n",
    "import pickle\n",
    "import scipy.stats as spstats\n",
    "import matplotlib.pyplot as plt\n",
    "import seaborn as sns\n",
    "import pandas_profiling\n",
    "from sklearn.datasets.base import Bunch\n",
    "#from data_transformation_cls import FeatureTransform\n",
    "from ast import literal_eval\n",
    "import plotly.figure_factory as ff\n",
    "import plotly.offline as py\n",
    "import plotly.graph_objects as go\n",
    "\n",
    "import pandas as pd\n",
    "pd.set_option('display.max_columns', None)  \n",
    "pd.set_option('display.max_rows', None)\n",
    "pd.set_option('display.max_colwidth', -1)\n",
    "\n",
    "from ordered_set import OrderedSet\n",
    "\n",
    "%matplotlib inline"
   ]
  },
  {
   "cell_type": "markdown",
   "metadata": {},
   "source": [
    "# <a id='00.2'>0.2 Define paths </a>"
   ]
  },
  {
   "cell_type": "code",
   "execution_count": null,
   "metadata": {},
   "outputs": [],
   "source": [
    "# data_path\n",
    "# data_path\n",
    "data_path = '../../../datalcdem/data/optima/dementia_18July/class_fast_normal_slow_api_inputs/'\n",
    "result_path = '../../../datalcdem/data/optima/dementia_18July/class_fast_normal_slow_api_inputs/results/'\n",
    "optima_path = '../../../datalcdem/data/optima/optima_excel/'"
   ]
  },
  {
   "cell_type": "markdown",
   "metadata": {},
   "source": [
    "# <a id='1'>1. Data Preparation </a> "
   ]
  },
  {
   "cell_type": "markdown",
   "metadata": {},
   "source": [
    "## <a id='01.1'>1.1. Read Data</a>"
   ]
  },
  {
   "cell_type": "code",
   "execution_count": null,
   "metadata": {
    "scrolled": true
   },
   "outputs": [],
   "source": [
    "#Preparation Features from Raw data\n",
    "\n",
    "# Patient Comorbidities data\n",
    "'''patient_com_raw_df = pd.read_csv(data_path + 'optima_patients_comorbidities.csv').groupby(by=['patient_id', 'EPISODE_DATE'], as_index=False).agg(lambda x: x.tolist())[['patient_id', 'EPISODE_DATE', 'Comorbidity_cui']]\n",
    "display(patient_com_raw_df.head(5))\n",
    "patient_com_raw_df['EPISODE_DATE'] = pd.to_datetime(patient_com_raw_df['EPISODE_DATE'])\n",
    "\n",
    "\n",
    "# Patient Treatment data\n",
    "patient_treat_raw_df = pd.read_csv(data_path + 'optima_patients_treatments.csv').groupby(by=['patient_id', 'EPISODE_DATE'], as_index=False).agg(lambda x: x.tolist())[['patient_id', 'EPISODE_DATE', 'Medication_cui']]\n",
    "display(patient_treat_raw_df.head(5))\n",
    "patient_treat_raw_df['EPISODE_DATE'] = pd.to_datetime(patient_treat_raw_df['EPISODE_DATE'])\n",
    "\n",
    "# Join Patient Treatment and Comorbidities data\n",
    "patient_com_treat_raw_df = pd.merge(patient_com_raw_df, patient_treat_raw_df,on=['patient_id', 'EPISODE_DATE'], how='outer')\n",
    "patient_com_treat_raw_df.sort_values(by=['patient_id', 'EPISODE_DATE'],axis=0, inplace=True, ascending=True)\n",
    "patient_com_treat_raw_df.reset_index(drop=True, inplace=True)\n",
    "patient_com_treat_raw_df.head(5)\n",
    "\n",
    "\n",
    "#Saving data\n",
    "patient_com_treat_raw_df.to_csv(data_path + 'patient_com_treat_episode_df.csv', index=False)'''\n",
    "\n",
    "# Extracting selected features from Raw data\n",
    "def rename_columns(col_list):\n",
    "    d = {}\n",
    "    for i in col_list:\n",
    "        if i=='GLOBAL_PATIENT_DB_ID':\n",
    "            d[i]='patient_id'\n",
    "        elif 'CAMDEX SCORES: ' in i:\n",
    "            d[i]=i.replace('CAMDEX SCORES: ', '').replace(' ', '_')\n",
    "        elif 'CAMDEX ADMINISTRATION 1-12: ' in i:\n",
    "            d[i]=i.replace('CAMDEX ADMINISTRATION 1-12: ', '').replace(' ', '_')\n",
    "        elif 'DIAGNOSIS 334-351: ' in i:\n",
    "            d[i]=i.replace('DIAGNOSIS 334-351: ', '').replace(' ', '_')\n",
    "        elif 'OPTIMA DIAGNOSES V 2010: ' in i:\n",
    "            d[i]=i.replace('OPTIMA DIAGNOSES V 2010: ', '').replace(' ', '_')\n",
    "        elif 'PM INFORMATION: ' in i:\n",
    "            d[i]=i.replace('PM INFORMATION: ', '').replace(' ', '_')\n",
    "        else:\n",
    "            d[i]=i.replace(' ', '_')\n",
    "    return d\n",
    "\n",
    "sel_col_df = pd.read_excel(optima_path+'Variable_Guide_Highlighted_Fields_.xlsx')\n",
    "display(sel_col_df.head(5))\n",
    "sel_cols = [i+j.replace('+', ':')for i,j in zip(sel_col_df['Sub Category '].tolist(), sel_col_df['Variable Label'].tolist())]\n",
    "rem_cols= ['OPTIMA DIAGNOSES V 2010: OTHER SYSTEMIC ILLNESS: COMMENT'] # Missing column in the dataset\n",
    "sel_cols = sorted(list(set(sel_cols)-set(rem_cols)))\n",
    "print (sel_cols)\n",
    "\n",
    "columns_selected = list(OrderedSet(['GLOBAL_PATIENT_DB_ID', 'EPISODE_DATE', 'Age At Episode', 'CAMDEX SCORES: MINI MENTAL SCORE', \n",
    "                    'OPTIMA DIAGNOSES V 2010: PETERSEN MCI', 'OPTIMA DIAGNOSES V 2010: PETERSEN MCI TYPE',\n",
    "                    'DIAGNOSIS 334-351: PRIMARY PSYCHIATRIC DIAGNOSES', 'OPTIMA DIAGNOSES V 2010: AD (NINCDS-ADSDA)'] + sel_cols))\n",
    "\n",
    "df_datarequest = pd.read_excel(data_path+'Data_Request_Jan_2019_final.xlsx')\n",
    "display(df_datarequest.head(1))\n",
    "df_datarequest_features = df_datarequest[columns_selected]\n",
    "display(df_datarequest_features.columns)\n",
    "\n",
    "columns_renamed = rename_columns(df_datarequest_features.columns.tolist())\n",
    "df_datarequest_features.rename(columns=columns_renamed, inplace=True)\n",
    "\n",
    "display(df_datarequest_features.head(5))\n",
    "# df_datarequest_features.drop(columns=['Age_At_Episode', 'PETERSEN_MCI_TYPE'], inplace=True)\n",
    "display(df_datarequest_features.head(5))\n",
    "\n",
    "# drop columns having out of range MMSE value\n",
    "# df_datarequest_features = df_datarequest_features[(df_datarequest_features['MINI_MENTAL_SCORE']<=30) & (df_datarequest_features['MINI_MENTAL_SCORE']>=0)]\n",
    "\n",
    "# Merging Join Patient Treatment, Comorbidities and selected features from raw data\n",
    "#patient_com_treat_raw_df['EPISODE_DATE'] = pd.to_datetime(patient_com_treat_raw_df['EPISODE_DATE'])\n",
    "#patient_com_treat_fea_raw_df = pd.merge(patient_com_treat_raw_df,df_datarequest_features,on=['patient_id', 'EPISODE_DATE'], how='left')\n",
    "#patient_com_treat_fea_raw_df.sort_values(by=['patient_id', 'EPISODE_DATE'],axis=0, inplace=True, ascending=True)\n",
    "#patient_com_treat_fea_raw_df.reset_index(inplace=True, drop=True)\n",
    "#display(patient_com_treat_fea_raw_df.head(5))\n",
    "patient_com_treat_fea_raw_df = df_datarequest_features # Need to be changed ------------------------\n",
    "\n",
    "# Filling misssing MMSE value with patient group Average\n",
    "\n",
    "#patient_com_treat_fea_raw_df['MINI_MENTAL_SCORE']\\\n",
    "#                                        = patient_com_treat_fea_raw_df.groupby(by=['patient_id'])['MINI_MENTAL_SCORE'].transform(lambda x: x.fillna(x.mean()))\n",
    "display(patient_com_treat_fea_raw_df.head(5))\n",
    "\n",
    "#  19<=Mild<=24 , 14<=Moderate<=18 , Severe<=13 \n",
    "patient_com_treat_fea_raw_df['MINI_MENTAL_SCORE_CATEGORY']=np.nan\n",
    "\n",
    "def change_minimentalscore_to_category(df):\n",
    "    df.loc[(df['MINI_MENTAL_SCORE']<=30) & (df['MINI_MENTAL_SCORE']>24),'MINI_MENTAL_SCORE_CATEGORY'] = 'Normal'\n",
    "    df.loc[(df['MINI_MENTAL_SCORE']<=24) & (df['MINI_MENTAL_SCORE']>=19),\n",
    "           'MINI_MENTAL_SCORE_CATEGORY'] = 'Mild'\n",
    "    df.loc[(df['MINI_MENTAL_SCORE']<=18) & (df['MINI_MENTAL_SCORE']>=14),\n",
    "           'MINI_MENTAL_SCORE_CATEGORY'] = 'Moderate'\n",
    "    df.loc[(df['MINI_MENTAL_SCORE']<=13) & (df['MINI_MENTAL_SCORE']>=0),'MINI_MENTAL_SCORE_CATEGORY'] = 'Severe'\n",
    "    \n",
    "    return df\n",
    "\n",
    "patient_com_treat_fea_raw_df = change_minimentalscore_to_category(patient_com_treat_fea_raw_df)\n",
    "\n",
    "# saving file\n",
    "patient_com_treat_fea_raw_df.to_csv(data_path + 'patient_com_treat_fea_episode_raw_without_expand_df.csv', index=False)\n",
    "\n",
    "# Set line number for treatment line\n",
    "def setLineNumber(lst):\n",
    "    lst_dict = {ide:0 for ide in lst}\n",
    "    lineNumber_list = []\n",
    "    \n",
    "    for idx in lst:\n",
    "        if idx in lst_dict:\n",
    "           lst_dict[idx] = lst_dict[idx] + 1 \n",
    "           lineNumber_list.append(lst_dict[idx])\n",
    "            \n",
    "    return lineNumber_list\n",
    "\n",
    "patient_com_treat_fea_raw_df['lineNumber'] = setLineNumber(patient_com_treat_fea_raw_df['patient_id'].tolist())\n",
    "display(patient_com_treat_fea_raw_df.head(5))\n",
    "\n",
    "# Extend episode data into columns\n",
    "def extend_episode_data(df):\n",
    "    id_dict = {i:0 for i in df['patient_id'].tolist()}\n",
    "    for x in df['patient_id'].tolist():\n",
    "        if x in id_dict:\n",
    "            id_dict[x]=id_dict[x]+1\n",
    "    \n",
    "    line_updated = [int(j) for i in id_dict.values() for j in range(1,i+1)]\n",
    "    # print (line_updated[0:10])\n",
    "    df.update(pd.Series(line_updated, name='lineNumber'),errors='ignore')\n",
    "    print ('\\n----------------After creating line-number for each patients------------------')\n",
    "    display(df.head(20))\n",
    "    \n",
    "    # merging episodes based on id and creating new columns for each episode\n",
    "    r = df['lineNumber'].max()\n",
    "    print ('Max line:',r)\n",
    "    l = [df[df['lineNumber']==i] for i in range(1, int(r+1))]\n",
    "    print('Number of Dfs to merge: ',len(l))\n",
    "    df_new = pd.DataFrame()\n",
    "    tmp_id = []\n",
    "    for i, df_l in enumerate(l):\n",
    "        df_l = df_l[~df_l['patient_id'].isin(tmp_id)]\n",
    "        for j, df_ll in enumerate(l[i+1:]):\n",
    "            #df_l = df_l.merge(df_ll, on='id', how='left', suffix=(str(j), str(j+1))) #suffixe is not working\n",
    "            #print (j)\n",
    "            df_l = df_l.join(df_ll.set_index('patient_id'), on='patient_id', rsuffix='_'+str(j+1))\n",
    "        tmp_id = tmp_id + df_l['patient_id'].tolist()\n",
    "        #display(df_l)\n",
    "        df_new = df_new.append(df_l, ignore_index=True, sort=False)\n",
    "        return df_new\n",
    "    \n",
    "\n",
    "\n",
    "patient_com_treat_fea_raw_df['lineNumber'] = setLineNumber(patient_com_treat_fea_raw_df['patient_id'].tolist())\n",
    "# drop rows with duplicated episode for a patient\n",
    "patient_com_treat_fea_raw_df = patient_com_treat_fea_raw_df.drop_duplicates(subset=['patient_id', 'EPISODE_DATE'])\n",
    "patient_com_treat_fea_raw_df.sort_values(by=['patient_id', 'EPISODE_DATE'], inplace=True)\n",
    "columns = patient_com_treat_fea_raw_df.columns.tolist()\n",
    "patient_com_treat_fea_raw_df = patient_com_treat_fea_raw_df[columns[0:2]+columns[-1:]\n",
    "                                                            +columns[2:4]+columns[-2:-1]\n",
    "                                                            +columns[4:-2]]\n",
    "# Expand patient \n",
    "#patient_com_treat_fea_raw_df = extend_episode_data(patient_com_treat_fea_raw_df)\n",
    "display(patient_com_treat_fea_raw_df.head(2))\n",
    "\n",
    "\n",
    "#Saving extended episode of each patients\n",
    "#patient_com_treat_fea_raw_df.to_csv(data_path + 'patient_com_treat_fea_episode_raw_df.csv', index=False)\n",
    "\n"
   ]
  },
  {
   "cell_type": "code",
   "execution_count": null,
   "metadata": {
    "scrolled": true
   },
   "outputs": [],
   "source": [
    "display(patient_com_treat_fea_raw_df.describe(include='all'))\n",
    "display(patient_com_treat_fea_raw_df.info())\n",
    "\n",
    "tmp_l = []\n",
    "for i in range(len(patient_com_treat_fea_raw_df.index)) :\n",
    "    # print(\"Nan in row \", i , \" : \" ,  patient_com_treat_fea_raw_df.iloc[i].isnull().sum())\n",
    "    tmp_l.append(patient_com_treat_fea_raw_df.iloc[i].isnull().sum())\n",
    "    \n",
    "plt.hist(tmp_l)\n",
    "plt.show()"
   ]
  },
  {
   "cell_type": "code",
   "execution_count": null,
   "metadata": {},
   "outputs": [],
   "source": [
    "profile = patient_com_treat_fea_raw_df.profile_report(title='Dementia Profiling Report', style={'full_width':True})\n",
    "# profile = patient_com_treat_fea_raw_df.profile_report(title='Dementia Profiling Report')\n",
    "profile.to_file(output_file= result_path + \"dementia_data_profiling_report_output_all_patients_notasked.html\")"
   ]
  },
  {
   "cell_type": "code",
   "execution_count": null,
   "metadata": {
    "scrolled": true
   },
   "outputs": [],
   "source": [
    "patient_com_treat_fea_raw_df[(patient_com_treat_fea_raw_df['MINI_MENTAL_SCORE_CATEGORY']!='Normal') & (patient_com_treat_fea_raw_df['PETERSEN_MCI']==1.0)][['MINI_MENTAL_SCORE','PETERSEN_MCI']]"
   ]
  },
  {
   "cell_type": "code",
   "execution_count": null,
   "metadata": {},
   "outputs": [],
   "source": []
  }
 ],
 "metadata": {
  "kernelspec": {
   "display_name": "Python 3",
   "language": "python",
   "name": "python3"
  },
  "language_info": {
   "codemirror_mode": {
    "name": "ipython",
    "version": 3
   },
   "file_extension": ".py",
   "mimetype": "text/x-python",
   "name": "python",
   "nbconvert_exporter": "python",
   "pygments_lexer": "ipython3",
   "version": "3.6.9"
  }
 },
 "nbformat": 4,
 "nbformat_minor": 4
}
