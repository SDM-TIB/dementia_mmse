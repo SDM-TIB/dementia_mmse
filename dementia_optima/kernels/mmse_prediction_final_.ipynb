{
 "cells": [
  {
   "cell_type": "markdown",
   "metadata": {},
   "source": [
    "------\n",
    "# **Dementia Patients -- Analysis and Prediction**\n",
    "### ***Author : Akhilesh Vyas***\n",
    "### ****Date : August, 2019****\n",
    "\n"
   ]
  },
  {
   "cell_type": "markdown",
   "metadata": {},
   "source": [
    "# ***Result Plots***"
   ]
  },
  {
   "cell_type": "markdown",
   "metadata": {},
   "source": [
    "- <a href='#00'>0. Setup </a>\n",
    "    - <a href='#00.1'>0.1. Load libraries </a>\n",
    "    - <a href='#00.2'>0.2. Define paths </a>\n",
    "\n",
    "- <a href='#01'>1. Data Preparation </a>  \n",
    "    - <a href='#01.1'>1.1. Read Data </a> \n",
    "    - <a href='#01.2'>1.2. Prepare data  </a>\n",
    "    - <a href='#01.3'>1.3. Prepare target </a>\n",
    "    - <a href='#01.4'>1.4. Removing Unwanted Features </a>\n",
    "    \n",
    "- <a href='#02'>2. Data Analysis</a> \n",
    "    - <a href='#02.1'>2.1. Feature </a> \n",
    "    - <a href='#02.2'>2.2. Target </a> \n",
    "    \n",
    "- <a href='#03'>3. Data Preparation and Vector Transformation</a>\n",
    "\n",
    "- <a href='#04'>4. Analysis and Imputing Missing Values </a>\n",
    "\n",
    "- <a href='#05'>5. Feature Analysis</a> \n",
    "    - <a href='#05.1'>5.1. Correlation Matrix</a>\n",
    "    - <a href='#05.2'>5.2. Feature and target </a>\n",
    "    - <a href='#05.3'>5.3. Feature Selection Models </a>\n",
    "    \n",
    "- <a href='#06'>6.Machine Learning -Classification Model</a> "
   ]
  },
  {
   "cell_type": "markdown",
   "metadata": {},
   "source": [
    "# <a id='00'>0. Setup </a>"
   ]
  },
  {
   "cell_type": "markdown",
   "metadata": {},
   "source": [
    "# <a id='00.1'>0.1 Load libraries </a>"
   ]
  },
  {
   "cell_type": "markdown",
   "metadata": {},
   "source": [
    "Loading Libraries"
   ]
  },
  {
   "cell_type": "code",
   "execution_count": null,
   "metadata": {},
   "outputs": [],
   "source": [
    "import sys\n",
    "sys.path.insert(1, '../preprocessing/')\n",
    "import numpy as np\n",
    "import pickle\n",
    "import scipy.stats as spstats\n",
    "import matplotlib.pyplot as plt\n",
    "import seaborn as sns\n",
    "import pandas_profiling\n",
    "from sklearn.datasets.base import Bunch\n",
    "#from data_transformation_cls import FeatureTransform\n",
    "from ast import literal_eval\n",
    "import plotly.figure_factory as ff\n",
    "import plotly.offline as py\n",
    "import plotly.graph_objects as go\n",
    "\n",
    "import pandas as pd\n",
    "pd.set_option('display.max_columns', None)  \n",
    "pd.set_option('display.max_rows', None)\n",
    "pd.set_option('display.max_colwidth', -1)\n",
    "\n",
    "from ordered_set import OrderedSet\n",
    "\n",
    "from func_def import *\n",
    "\n",
    "%matplotlib inline"
   ]
  },
  {
   "cell_type": "markdown",
   "metadata": {},
   "source": [
    "# <a id='00.2'>0.2 Define paths </a>"
   ]
  },
  {
   "cell_type": "code",
   "execution_count": null,
   "metadata": {},
   "outputs": [],
   "source": [
    "# data_path\n",
    "# !cp -r ../../../datalcdem/data/optima/dementia_18July/data_notasked/ ../../../datalcdem/data/optima/dementia_18July/data_notasked_mmse_0_30/\n",
    "#data_path = '../../../datalcdem/data/optima/dementia_03_2020/data_filled_wiiliam/'\n",
    "#result_path = '../../../datalcdem/data/optima/dementia_03_2020/data_filled_wiiliam/results/'\n",
    "#optima_path = '../../../datalcdem/data/optima/optima_excel/'\n",
    "\n",
    "data_path = '../../data/'"
   ]
  },
  {
   "cell_type": "code",
   "execution_count": null,
   "metadata": {},
   "outputs": [],
   "source": [
    "# Reading Data\n",
    "\n",
    "#patients data\n",
    "patient_df = pd.read_csv(data_path+'patients.csv')\n",
    "print (patient_df.dtypes)\n",
    "# change dataType if there is something\n",
    "for col in patient_df.columns: \n",
    "    if 'Date' in col:\n",
    "        patient_df[col] = pd.to_datetime(patient_df[col]) \n",
    " \n",
    "patient_df = patient_df[['patient_id','gender', 'smoker', 'education', 'ageAtFirstEpisode', 'apoe']]\n",
    "patient_df.rename(columns={'ageAtFirstEpisode':'age'}, inplace=True)\n",
    "patient_df.head(5)"
   ]
  },
  {
   "cell_type": "markdown",
   "metadata": {},
   "source": [
    "# <a id='1'>1. Data Preparation </a> "
   ]
  },
  {
   "cell_type": "markdown",
   "metadata": {},
   "source": [
    "## <a id='01.1'>1.1. Read Data</a>"
   ]
  },
  {
   "cell_type": "code",
   "execution_count": null,
   "metadata": {
    "jupyter": {
     "source_hidden": true
    },
    "scrolled": true
   },
   "outputs": [],
   "source": [
    "#Preparation Features from Raw data\n",
    "\n",
    "# Extracting selected features from Raw data\n",
    "def rename_columns(col_list):\n",
    "    d = {}\n",
    "    for i in col_list:\n",
    "        if i=='GLOBAL_PATIENT_DB_ID':\n",
    "            d[i]='patient_id'\n",
    "        elif 'CAMDEX SCORES: ' in i:\n",
    "            d[i]=i.replace('CAMDEX SCORES: ', '').replace(' ', '_')\n",
    "        elif 'CAMDEX ADMINISTRATION 1-12: ' in i:\n",
    "            d[i]=i.replace('CAMDEX ADMINISTRATION 1-12: ', '').replace(' ', '_')\n",
    "        elif 'DIAGNOSIS 334-351: ' in i:\n",
    "            d[i]=i.replace('DIAGNOSIS 334-351: ', '').replace(' ', '_')\n",
    "        elif 'OPTIMA DIAGNOSES V 2010: ' in i:\n",
    "            d[i]=i.replace('OPTIMA DIAGNOSES V 2010: ', '').replace(' ', '_')\n",
    "        elif 'PM INFORMATION: ' in i:\n",
    "            d[i]=i.replace('PM INFORMATION: ', '').replace(' ', '_')\n",
    "        else:\n",
    "            d[i]=i.replace(' ', '_')\n",
    "    return d\n",
    "\n",
    "\n",
    "columns_selected = ['GLOBAL_PATIENT_DB_ID', 'EPISODE_DATE', 'CAMDEX SCORES: MINI MENTAL SCORE', 'CLINICAL BACKGROUND: BODY MASS INDEX',  \n",
    "          'DIAGNOSIS 334-351: ANXIETY/PHOBIC', 'OPTIMA DIAGNOSES V 2010: CERBRO-VASCULAR DISEASE PRESENT', 'DIAGNOSIS 334-351: DEPRESSIVE ILLNESS',\n",
    "          'OPTIMA DIAGNOSES V 2010: DIAGNOSTIC CODE', 'CAMDEX ADMINISTRATION 1-12: EST OF SEVERITY OF DEPRESSION', \n",
    "           'CAMDEX ADMINISTRATION 1-12: EST SEVERITY OF DEMENTIA', 'DIAGNOSIS 334-351: PRIMARY PSYCHIATRIC DIAGNOSES', 'OPTIMA DIAGNOSES V 2010: PETERSEN MCI']\n",
    "\n",
    "\n",
    "\n",
    "columns_selected = list(OrderedSet(columns_selected).union(OrderedSet(features_all)))\n",
    "\n",
    "# Need to think about other columns eg. dementia, social, sleeping habits, \n",
    "df_datarequest = pd.read_excel(data_path+'Optima_Data_Report_Cases_6511_filled.xlsx')\n",
    "display(df_datarequest.head(1))\n",
    "df_datarequest_features = df_datarequest[columns_selected]\n",
    "display(df_datarequest_features.columns)\n",
    "\n",
    "columns_renamed = rename_columns(df_datarequest_features.columns.tolist())\n",
    "df_datarequest_features.rename(columns=columns_renamed, inplace=True)\n",
    "patient_com_treat_fea_raw_df = df_datarequest_features # Need to be changed ------------------------\n",
    "display(patient_com_treat_fea_raw_df.head(5))\n",
    "           \n",
    "# merging\n",
    "patient_df = patient_com_treat_fea_raw_df.merge(patient_df,how='inner', on=['patient_id'])           \n",
    "           \n",
    "# age calculator\n",
    "patient_df['age'] = patient_df['age'] + patient_df.groupby(by=['patient_id'])['EPISODE_DATE'].transform(lambda x: (x - x.iloc[0])/(np.timedelta64(1, 'D')*365.25))\n",
    "\n",
    "# saving file\n",
    "patient_df.to_csv(data_path + 'patient_com_treat_fea_filled_sel_col.csv', index=False)\n",
    "\n",
    "           \n",
    "\n",
    "# patient_com_treat_fea_raw_df = patient_com_treat_fea_raw_df.drop_duplicates(subset=['patient_id', 'EPISODE_DATE'])\n",
    "patient_df.sort_values(by=['patient_id', 'EPISODE_DATE'], inplace=True)\n",
    "\n",
    "display(patient_df.head(5))\n"
   ]
  },
  {
   "cell_type": "code",
   "execution_count": null,
   "metadata": {
    "scrolled": true
   },
   "outputs": [],
   "source": [
    "display(patient_df.describe(include='all'))\n",
    "display(patient_df.info())\n",
    "\n",
    "tmp_l = []\n",
    "for i in range(len(patient_df.index)):\n",
    "    # print(\"Nan in row \", i , \" : \" ,  patient_com_treat_fea_raw_df.iloc[i].isnull().sum())\n",
    "    tmp_l.append(patient_df.iloc[i].isnull().sum())\n",
    "    \n",
    "plt.hist(tmp_l)\n",
    "plt.show()"
   ]
  },
  {
   "cell_type": "code",
   "execution_count": null,
   "metadata": {},
   "outputs": [],
   "source": [
    "# find NAN and Notasked and replace them with suitable value\n",
    "'''print (patient_df.columns.tolist())\n",
    "notasked_columns = ['ANXIETY/PHOBIC', 'CERBRO-VASCULAR_DISEASE_PRESENT', 'DEPRESSIVE_ILLNESS','EST_OF_SEVERITY_OF_DEPRESSION', 'EST_SEVERITY_OF_DEMENTIA', \n",
    "                    'PRIMARY_PSYCHIATRIC_DIAGNOSES']\n",
    "print ('total nan values %: ', 100*patient_df.isna().sum().sum()/patient_df.size)\n",
    "patient_df.loc[:, notasked_columns] =  patient_df.loc[:, notasked_columns].replace([9], [np.nan])\n",
    "print ('total nan values % after considering notasked: ', 100*patient_df.isna().sum().sum()/patient_df.size)\n",
    "display(patient_df.isna().sum())\n",
    "notasked_columns.append('DIAGNOSTIC_CODE')\n",
    "notasked_columns.append('education')\n",
    "patient_df.loc[:, notasked_columns] = patient_df.groupby(by=['patient_id'])[notasked_columns].transform(lambda x: x.fillna(method='pad'))\n",
    "patient_df.loc[:, ['CLINICAL_BACKGROUND:_BODY_MASS_INDEX']] = patient_df.groupby(by=['patient_id'])[['CLINICAL_BACKGROUND:_BODY_MASS_INDEX']].transform(lambda x: x.interpolate())\n",
    "patient_df.loc[:, ['CLINICAL_BACKGROUND:_BODY_MASS_INDEX']] = patient_df.groupby(by=['patient_id'])[['CLINICAL_BACKGROUND:_BODY_MASS_INDEX']].transform(lambda x: x.fillna(method='pad'))\n",
    "print ('total nan values % after filling : ', 100*patient_df.isna().sum().sum()/patient_df.size)\n",
    "display(patient_df.isna().sum())'''"
   ]
  },
  {
   "cell_type": "code",
   "execution_count": null,
   "metadata": {},
   "outputs": [],
   "source": [
    "# Label of patients:\n",
    "misdiagnosed_df = pd.read_csv(data_path+'misdiagnosed.csv')\n",
    "display(misdiagnosed_df.head(5))\n",
    "\n",
    "misdiagnosed_df['EPISODE_DATE'] = pd.to_datetime(misdiagnosed_df['EPISODE_DATE'])\n",
    "\n",
    "#Merge Patient_df\n",
    "patient_df = patient_df.merge(misdiagnosed_df[['patient_id', 'EPISODE_DATE', 'Misdiagnosed','Misdiagnosed1']], how='left', on=['patient_id', 'EPISODE_DATE'])\n",
    "display(patient_df.head(5))"
   ]
  },
  {
   "cell_type": "code",
   "execution_count": null,
   "metadata": {},
   "outputs": [],
   "source": [
    "patient_df.to_csv(data_path+'patient_df.csv', index=False)"
   ]
  },
  {
   "cell_type": "code",
   "execution_count": null,
   "metadata": {},
   "outputs": [],
   "source": [
    "patient_df = pd.read_csv(data_path+'patient_df.csv')\n",
    "patient_df['EPISODE_DATE'] = pd.to_datetime(patient_df['EPISODE_DATE'])"
   ]
  },
  {
   "cell_type": "code",
   "execution_count": null,
   "metadata": {},
   "outputs": [],
   "source": [
    "# duration and previous mini mental score state\n",
    "patient_df['durations(years)'] = patient_df.groupby(by='patient_id')['EPISODE_DATE'].transform(lambda x: (x - x.iloc[0])/(np.timedelta64(1, 'D')*365.25))\n",
    "patient_df['MINI_MENTAL_SCORE_PRE'] = patient_df.groupby(by='patient_id')['MINI_MENTAL_SCORE'].transform(lambda x: x.shift(+1))"
   ]
  },
  {
   "cell_type": "code",
   "execution_count": null,
   "metadata": {},
   "outputs": [],
   "source": [
    "patient_df[['CLINICAL_BACKGROUND:_BODY_MASS_INDEX']].describe() # Out of Range values"
   ]
  },
  {
   "cell_type": "code",
   "execution_count": null,
   "metadata": {},
   "outputs": [],
   "source": [
    "patient_df['CLINICAL_BACKGROUND:_BODY_MASS_INDEX'][(patient_df['CLINICAL_BACKGROUND:_BODY_MASS_INDEX']>54) | (patient_df['CLINICAL_BACKGROUND:_BODY_MASS_INDEX']<8)]=np.nan"
   ]
  },
  {
   "cell_type": "code",
   "execution_count": null,
   "metadata": {},
   "outputs": [],
   "source": [
    "patient_df[['CLINICAL_BACKGROUND:_BODY_MASS_INDEX']].describe()"
   ]
  },
  {
   "cell_type": "code",
   "execution_count": null,
   "metadata": {},
   "outputs": [],
   "source": [
    "# drop unnecessary columns\n",
    "# patient_df.drop(columns=['patient_id', 'EPISODE_DATE'], inplace=True)"
   ]
  },
  {
   "cell_type": "code",
   "execution_count": null,
   "metadata": {
    "scrolled": true
   },
   "outputs": [],
   "source": [
    "# drop rows where Misdiagnosed cases are invalid\n",
    "patient_df = patient_df.dropna(subset=['MINI_MENTAL_SCORE_PRE'], axis=0 )\n"
   ]
  },
  {
   "cell_type": "code",
   "execution_count": null,
   "metadata": {},
   "outputs": [],
   "source": [
    "patient_df['gender'].unique(), patient_df['smoker'].unique(), patient_df['education'].unique(), patient_df['apoe'].unique(), patient_df['Misdiagnosed1'].unique(), patient_df['Misdiagnosed'].unique()"
   ]
  },
  {
   "cell_type": "code",
   "execution_count": null,
   "metadata": {},
   "outputs": [],
   "source": [
    "# encoding of categorial features\n",
    "patient_df['smoker'] = patient_df['smoker'].replace(['smoker', 'no_smoker'],[1, 0])\n",
    "patient_df['education'] = patient_df['education'].replace(['medium', 'higher','basic'],[1, 2, 0])\n",
    "patient_df['Misdiagnosed1'] = patient_df['Misdiagnosed1'].replace(['NO', 'YES', 'UNKNOWN'],[0, 1, 2])\n",
    "patient_df['Misdiagnosed'] = patient_df['Misdiagnosed'].replace(['NO', 'YES', 'UNKNOWN'],[0, 1, 2])\n",
    "patient_df = pd.get_dummies(patient_df, columns=['gender', 'apoe'])\n",
    "patient_df.replace(['mixed mitral & Aortic Valve disease', 'Bilateral knee replacements'],[np.nan, np.nan], inplace=True)"
   ]
  },
  {
   "cell_type": "code",
   "execution_count": null,
   "metadata": {
    "scrolled": true
   },
   "outputs": [],
   "source": [
    "patient_df.dtypes"
   ]
  },
  {
   "cell_type": "code",
   "execution_count": null,
   "metadata": {},
   "outputs": [],
   "source": [
    "for i, j in zip(patient_df, patient_df.dtypes):\n",
    "    if not (j == \"float64\" or j == \"int64\" or j == 'uint8' or j == 'datetime64[ns]'):\n",
    "        print(i)\n",
    "        patient_df[i] = pd.to_numeric(patient_df[i], errors='coerce')\n",
    "\n",
    "patient_df = patient_df.fillna(-9)"
   ]
  },
  {
   "cell_type": "code",
   "execution_count": null,
   "metadata": {},
   "outputs": [],
   "source": [
    "# Misdiagnosed Criteria\n",
    "patient_df = patient_df[patient_df['Misdiagnosed']<2]\n",
    "patient_df = patient_df.astype({col: str('float64') for col, dtype in zip (patient_df.columns.tolist(), patient_df.dtypes.tolist()) if 'int' in str(dtype) or str(dtype)=='object'})\n",
    "patient_df.describe()"
   ]
  },
  {
   "cell_type": "code",
   "execution_count": null,
   "metadata": {},
   "outputs": [],
   "source": [
    "patient_df_X = patient_df.drop(columns=['patient_id', 'EPISODE_DATE', 'Misdiagnosed1', 'MINI_MENTAL_SCORE', 'PETERSEN_MCI', 'Misdiagnosed'])\n",
    "patient_df_y_cat = patient_df['Misdiagnosed1']\n",
    "patient_df_y_cat_s = patient_df['Misdiagnosed']\n",
    "patient_df_y_real = patient_df['MINI_MENTAL_SCORE']"
   ]
  },
  {
   "cell_type": "code",
   "execution_count": null,
   "metadata": {
    "scrolled": true
   },
   "outputs": [],
   "source": [
    "print (patient_df_X.shape, patient_df_y_cat.shape, patient_df_y_cat_s.shape, patient_df_y_real.shape)\n",
    "print(patient_df_X.shape, patient_df_y_cat.shape, patient_df_y_cat_s.shape, patient_df_y_real.shape)"
   ]
  },
  {
   "cell_type": "code",
   "execution_count": null,
   "metadata": {},
   "outputs": [],
   "source": [
    "# training data\n",
    "patient_df_X_fill_data = pd.DataFrame(data=patient_df_X.values, columns=patient_df_X.columns, index=patient_df_X.index)\n",
    "\n",
    "patient_df_X_train, patient_df_y_train = patient_df_X_fill_data[patient_df_y_cat==0], patient_df_y_real[patient_df_y_cat==0]\n",
    "patient_df_X_test, patient_df_y_test= patient_df_X_fill_data[patient_df_y_cat==1], patient_df_y_real[patient_df_y_cat==1]\n",
    "\n",
    "patient_df_X_s_train, patient_df_y_s_train = patient_df_X_fill_data[patient_df_y_cat_s==0], patient_df_y_real[patient_df_y_cat_s==0]\n",
    "patient_df_X_s_test, patient_df_y_s_test= patient_df_X_fill_data[patient_df_y_cat_s==1], patient_df_y_real[patient_df_y_cat_s==1]\n"
   ]
  },
  {
   "cell_type": "code",
   "execution_count": null,
   "metadata": {},
   "outputs": [],
   "source": [
    "patient_df_X_train.to_csv(data_path+'X_train.csv', index=False)\n",
    "patient_df_y_train.to_csv(data_path+'y_train.csv', index=False)\n",
    "patient_df_X_test.to_csv(data_path+'X_test.csv', index=False)\n",
    "patient_df_y_test.to_csv(data_path+'y_test.csv', index=False)"
   ]
  },
  {
   "cell_type": "code",
   "execution_count": null,
   "metadata": {},
   "outputs": [],
   "source": [
    "print(patient_df_X_train.shape, patient_df_y_train.shape, patient_df_X_test.shape, patient_df_y_test.shape)\n",
    "print(patient_df_X_s_train.shape, patient_df_y_s_train.shape, patient_df_X_s_test.shape, patient_df_y_s_test.shape)"
   ]
  },
  {
   "cell_type": "code",
   "execution_count": null,
   "metadata": {},
   "outputs": [],
   "source": [
    "X_train, y_train, X_test, y_test = patient_df_X_train.values, patient_df_y_train.values.reshape(-1, 1),patient_df_X_test.values, patient_df_y_test.values.reshape(-1,1)\n",
    "\n",
    "X_s_train, y_s_train, X_s_test, y_s_test = patient_df_X_s_train.values, patient_df_y_s_train.values.reshape(-1, 1),patient_df_X_s_test.values, patient_df_y_s_test.values.reshape(-1,1)"
   ]
  },
  {
   "cell_type": "code",
   "execution_count": null,
   "metadata": {
    "scrolled": true
   },
   "outputs": [],
   "source": [
    "# Random Forest Classfier\n",
    "\n",
    "from sklearn.ensemble import RandomForestClassifier\n",
    "from sklearn import svm, datasets\n",
    "from sklearn.model_selection import cross_val_score, cross_validate, cross_val_predict\n",
    "from sklearn.metrics import classification_report\n",
    "# patient_df_X_fill_data[patient_df_y_cat==0]\n",
    "X, y = patient_df_X_fill_data, patient_df_y_cat\n",
    "clf = RandomForestClassifier(n_estimators=100)\n",
    "print (cross_validate(clf, X, y, scoring=['recall_macro', 'precision_macro', 'f1_macro', 'accuracy'], cv=5) )\n",
    "y_pred = cross_val_predict(clf,X, y, cv=5 )\n",
    "print(classification_report(y, y_pred, target_names=['NO','YES']))\n",
    "\n",
    "from imblearn.over_sampling import SMOTE\n",
    "smote = SMOTE(sampling_strategy='auto')\n",
    "data_p_s, target_p_s = smote.fit_sample(patient_df_X_fill_data, patient_df_y_cat)\n",
    "print (data_p_s.shape, target_p_s.shape)\n",
    "# patient_df_X_fill_data[patient_df_y_cat==0]\n",
    "X, y = data_p_s,  target_p_s\n",
    "clf = RandomForestClassifier(n_estimators=100)\n",
    "print (cross_validate(clf, X, y, scoring=['recall_macro', 'precision_macro', 'f1_macro', 'accuracy'], cv=5) )\n",
    "y_pred = cross_val_predict(clf,X, y, cv=5 )\n",
    "print(classification_report(y, y_pred, target_names=['NO','YES']))\n",
    "\n",
    "from collections import Counter\n",
    "from imblearn.under_sampling import ClusterCentroids\n",
    "cc = ClusterCentroids(random_state=0)\n",
    "X_resampled, y_resampled = cc.fit_resample(patient_df_X_fill_data, patient_df_y_cat)\n",
    "print(sorted(Counter(y_resampled).items()))\n",
    "X, y = X_resampled,  y_resampled\n",
    "clf = RandomForestClassifier(n_estimators=100)\n",
    "print (cross_validate(clf, X, y, scoring=['recall_macro', 'precision_macro', 'f1_macro', 'accuracy'], cv=5) )\n",
    "y_pred = cross_val_predict(clf,X, y, cv=5 )\n",
    "print(classification_report(y, y_pred, target_names=['NO','YES']))\n",
    "\n",
    "from imblearn.under_sampling import RandomUnderSampler\n",
    "rus = RandomUnderSampler(random_state=0)\n",
    "X, y = rus.fit_resample(patient_df_X_fill_data, patient_df_y_cat)\n",
    "clf = RandomForestClassifier(n_estimators=100)\n",
    "print (cross_validate(clf, X, y, scoring=['recall_macro', 'precision_macro', 'f1_macro', 'accuracy'], cv=5) )\n",
    "y_pred = cross_val_predict(clf,X, y, cv=5 )\n",
    "print(classification_report(y, y_pred, target_names=['NO','YES']))"
   ]
  },
  {
   "cell_type": "code",
   "execution_count": null,
   "metadata": {},
   "outputs": [],
   "source": [
    "X_positive, y_positive, X_negative, y_negative = X_train, y_train, X_test, y_test"
   ]
  },
  {
   "cell_type": "code",
   "execution_count": null,
   "metadata": {},
   "outputs": [],
   "source": [
    "X_positive"
   ]
  },
  {
   "cell_type": "code",
   "execution_count": null,
   "metadata": {},
   "outputs": [],
   "source": [
    "cr_score_list = []\n",
    "y_true_5, y_pred_5 = np.array([]), np.array([])\n",
    "y_true_5.shape, y_pred_5.shape"
   ]
  },
  {
   "cell_type": "code",
   "execution_count": null,
   "metadata": {
    "scrolled": true
   },
   "outputs": [],
   "source": [
    "from sklearn.ensemble import RandomForestRegressor\n",
    "from sklearn.model_selection import train_test_split\n",
    "from sklearn.metrics import classification_report\n",
    "from sklearn.metrics import confusion_matrix\n",
    "\n",
    "\n",
    "for i in range(5):\n",
    "    X_train, X_test_pos, y_train, y_test_pos = train_test_split(X_positive, y_positive, test_size=0.136)\n",
    "    print (X_train.shape, X_test_pos.shape, y_train.shape, y_test_pos.shape)\n",
    "    X_test, y_test = np.append(X_negative, X_test_pos, axis=0), np.append(y_negative, y_test_pos, axis=0)\n",
    "    #X_test, y_test = X_negative, y_negative\n",
    "    print (X_test.shape, y_test.shape)\n",
    "\n",
    "    regr = RandomForestRegressor(max_depth=2, random_state=0)\n",
    "    regr.fit(X_train, y_train)\n",
    "    #print(regr.feature_importances_)\n",
    "\n",
    "    y_pred = regr.predict(X_test)\n",
    "    #print(regr.predict(X_test))\n",
    "    print (regr.score(X_test, y_test))\n",
    "    print (regr.score(X_train, y_train))\n",
    "\n",
    "    X_y_test = np.append(X_test, y_pred.reshape(-1,1), axis=1)\n",
    "    print (X_test.shape, y_test.shape, X_y_test.shape)\n",
    "    df_X_y_test = pd.DataFrame(data=X_y_test, columns=patient_df_X_fill_data.columns.tolist()+['MMSE_Predicted'])\n",
    "    df_X_y_test.head(5)\n",
    "\n",
    "    patient_df_tmp = patient_df[['patient_id', 'EPISODE_DATE', 'DIAGNOSTIC_CODE', 'smoker', 'gender_Male', 'age', 'durations(years)', 'MINI_MENTAL_SCORE_PRE', ]]\n",
    "    df_X_y_test_tmp = df_X_y_test[['smoker', 'gender_Male', 'DIAGNOSTIC_CODE', 'age', 'durations(years)', 'MINI_MENTAL_SCORE_PRE', 'MMSE_Predicted']]\n",
    "    p_tmp = patient_df_tmp.merge(df_X_y_test_tmp)\n",
    "    print (patient_df.shape, df_X_y_test_tmp.shape, p_tmp.shape)\n",
    "    print (p_tmp.head(5))\n",
    "\n",
    "    # Compare it with Predicted MMSE Scores and True MMSE values\n",
    "    patient_df_misdiag = pd.read_csv(data_path+'misdiagnosed.csv')\n",
    "    patient_df_misdiag['EPISODE_DATE'] = pd.to_datetime(patient_df_misdiag['EPISODE_DATE'])\n",
    "    patient_df_misdiag.head(5)\n",
    "\n",
    "    patient_df_misdiag_predmis = patient_df_misdiag.merge(p_tmp[['patient_id', 'EPISODE_DATE', 'MMSE_Predicted']], how='outer', on=['patient_id', 'EPISODE_DATE'])\n",
    "    patient_df_misdiag_predmis.head(5)\n",
    "    display(patient_df_misdiag_predmis.isna().sum())\n",
    "\n",
    "    index_MMSE_Predicted = patient_df_misdiag_predmis['MMSE_Predicted'].notnull()\n",
    "    patient_df_misdiag_predmis['MMSE_Predicted'] = patient_df_misdiag_predmis['MMSE_Predicted'].fillna(patient_df_misdiag_predmis['MINI_MENTAL_SCORE'])\n",
    "\n",
    "    print (sum(patient_df_misdiag_predmis['MMSE_Predicted']!=patient_df_misdiag_predmis['MINI_MENTAL_SCORE']))\n",
    "\n",
    "    # find Misdiagnosed\n",
    "\n",
    "    def find_misdiagonsed1():\n",
    "        k = 0\n",
    "        l_misdiagno = []\n",
    "        for pat_id in patient_df_misdiag_predmis['patient_id'].unique():\n",
    "            tmp_df = patient_df_misdiag_predmis[['PETERSEN_MCI', 'AD_STATUS', 'MMSE_Predicted', 'durations(years)']][patient_df_misdiag_predmis['patient_id']==pat_id]\n",
    "            flag = False\n",
    "            mms_val = 0.0\n",
    "            dur_val = 0.0\n",
    "            for i, row in tmp_df.iterrows():\n",
    "                if (row[0]==1.0 or row[1]== 1.0) and flag==False:\n",
    "                    l_misdiagno.append('UNKNOWN')\n",
    "                    mms_val = row[2]\n",
    "                    dur_val = row[3]\n",
    "                    flag = True\n",
    "                elif (flag==True):\n",
    "                    if (row[2]-mms_val>5.0) and (row[3]-dur_val<=1.0) or\\\n",
    "                       (row[2]-mms_val>3.0) and ((row[3]-dur_val<2.0 and row[3]-dur_val>1.0)) or\\\n",
    "                       (row[2]-mms_val>0.0) and (row[3]-dur_val>=2.0):\n",
    "                        l_misdiagno.append('YES')\n",
    "                    else:\n",
    "                        l_misdiagno.append('NO')\n",
    "                else:\n",
    "                    l_misdiagno.append('UNKNOWN')\n",
    "\n",
    "        return l_misdiagno\n",
    "\n",
    "\n",
    "\n",
    "    print (len(find_misdiagonsed1()))\n",
    "    patient_df_misdiag_predmis['Misdiagnosed_Predicted'] = find_misdiagonsed1()\n",
    "\n",
    "    c2=patient_df_misdiag_predmis['Misdiagnosed1']!=patient_df_misdiag_predmis['Misdiagnosed_Predicted']\n",
    "    misdiagnosed1_true_pred= patient_df_misdiag_predmis[index_MMSE_Predicted][['Misdiagnosed1', 'Misdiagnosed_Predicted']].replace(['NO', 'YES'], [0,1])\n",
    "    print(classification_report(misdiagnosed1_true_pred.Misdiagnosed1, misdiagnosed1_true_pred.Misdiagnosed_Predicted, target_names=['NO', 'YES']))\n",
    "    y_true_5, y_pred_5 = np.append(y_true_5, misdiagnosed1_true_pred.Misdiagnosed1, axis=0), np.append(y_pred_5, misdiagnosed1_true_pred.Misdiagnosed_Predicted, axis=0)\n",
    "\n",
    "print(y_true_5.shape, y_pred_5.shape)"
   ]
  },
  {
   "cell_type": "code",
   "execution_count": null,
   "metadata": {
    "scrolled": true
   },
   "outputs": [],
   "source": [
    "df_all = pd.DataFrame(classification_report(y_true_5, y_pred_5, target_names=['NO', 'YES'], output_dict=True))\n",
    "df_all = df_all.round(2)\n",
    "\n",
    "n_range = int(y_true_5.shape[0]/X_test.shape[0])\n",
    "y_shape = X_test.shape[0]\n",
    "\n",
    "for cr in range(n_range):\n",
    "    d = classification_report(y_true_5.reshape(n_range,y_shape)[cr], y_pred_5.reshape(n_range,y_shape)[cr], target_names=['NO', 'YES'], output_dict=True)\n",
    "    cr_score_list.append(d)\n",
    "\n",
    "print(cr_score_list)\n",
    "\n",
    "df_tot = pd.DataFrame(cr_score_list[0])\n",
    "for i in range(n_range-1):\n",
    "    df_tot = pd.concat([df_tot, pd.DataFrame(cr_score_list[i])], axis='rows')\n",
    "\n",
    "df_avg = df_tot.groupby(level=0, sort=False).mean().round(2)\n",
    "acc, sup, acc1, sup1 = df_avg.loc['precision', 'accuracy'], df_avg.loc['support', 'macro avg'],\\\n",
    "df_all.loc['precision', 'accuracy'], df_all.loc['support', 'macro avg']\n",
    "\n",
    "pd.concat([df_avg.drop(columns='accuracy'), df_all.drop(columns='accuracy')], \\\n",
    "          keys= ['Average classification metrics (accuracy:{},  support:{})'.format(acc, sup),\\\n",
    "                 'Classification metrics (accuracy:{},  support:{})'.format(acc1, sup1)], axis=1)"
   ]
  },
  {
   "cell_type": "code",
   "execution_count": null,
   "metadata": {},
   "outputs": [],
   "source": [
    "cm_all = confusion_matrix(y_true_5, y_pred_5)\n",
    "print(cm_all)\n",
    " \n",
    "n_range = int(y_true_5.shape[0]/X_test.shape[0])\n",
    "y_shape = X_test.shape[0]\n",
    "cr_score_list = []\n",
    "\n",
    "for cr in range(n_range):\n",
    "    d = confusion_matrix(y_true_5.reshape(n_range,y_shape)[cr], y_pred_5.reshape(n_range,y_shape)[cr])\n",
    "    cr_score_list.append(d)\n",
    "\n",
    "print(cr_score_list)\n",
    "\n",
    "cr_score_np = np.array(cr_score_list)\n",
    "\n",
    "cm_avg = cr_score_np.sum(axis=0)/cr_score_np.shape[0]\n",
    "\n",
    "print(cm_avg)"
   ]
  },
  {
   "cell_type": "code",
   "execution_count": null,
   "metadata": {},
   "outputs": [],
   "source": []
  },
  {
   "cell_type": "code",
   "execution_count": null,
   "metadata": {},
   "outputs": [],
   "source": []
  },
  {
   "cell_type": "code",
   "execution_count": null,
   "metadata": {},
   "outputs": [],
   "source": []
  },
  {
   "cell_type": "code",
   "execution_count": null,
   "metadata": {},
   "outputs": [],
   "source": []
  },
  {
   "cell_type": "code",
   "execution_count": null,
   "metadata": {},
   "outputs": [],
   "source": []
  }
 ],
 "metadata": {
  "kernelspec": {
   "display_name": "Python 3",
   "language": "python",
   "name": "python3"
  },
  "language_info": {
   "codemirror_mode": {
    "name": "ipython",
    "version": 3
   },
   "file_extension": ".py",
   "mimetype": "text/x-python",
   "name": "python",
   "nbconvert_exporter": "python",
   "pygments_lexer": "ipython3",
   "version": "3.8.3"
  }
 },
 "nbformat": 4,
 "nbformat_minor": 4
}
