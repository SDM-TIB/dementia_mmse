{
 "cells": [
  {
   "cell_type": "code",
   "execution_count": null,
   "metadata": {},
   "outputs": [],
   "source": [
    "import pandas as pd\n",
    "import numpy as np\n",
    "import pickle\n",
    "\n",
    "pd.set_option('display.max_columns', None)  \n",
    "pd.set_option('display.max_rows', None)\n",
    "pd.set_option('display.max_colwidth', -1)\n",
    "\n",
    "%matplotlib inline"
   ]
  },
  {
   "cell_type": "code",
   "execution_count": null,
   "metadata": {
    "code_folding": []
   },
   "outputs": [],
   "source": [
    "# Remove unrelated columns form data and get their name\n",
    "\n",
    "folder_path = '../../../datalcdem/data/optima/dementia_18July/'\n",
    "\n",
    "patient_df = pd.read_csv(folder_path + 'optima_patients.csv')\n",
    "display(patient_df.head(5))\n",
    "\n",
    "#patient_df[['MMS1', 'MMS2']].hist()\n",
    "\n",
    "patient_com_df = pd.read_csv(folder_path + 'optima_patients_comorbidities.csv').groupby(by=['patient_id', 'EPISODE_DATE'], as_index=False).agg(lambda x: x.tolist())[['patient_id', 'EPISODE_DATE', 'Comorbidity_cui']]\n",
    "display(patient_com_df.head(10))\n",
    "\n",
    "patient_filt_df = pd.read_csv(folder_path + 'optima_patients_filtered.csv')\n",
    "#display(patient_filt_df.head(5))\n",
    "\n",
    "\n",
    "patient_treat_df = pd.read_csv(folder_path + 'optima_patients_treatments.csv').groupby(by=['patient_id', 'EPISODE_DATE'], as_index=False).agg(lambda x: x.tolist())[['patient_id', 'EPISODE_DATE', 'Medication_cui']]\n",
    "display(patient_treat_df.head(5))"
   ]
  },
  {
   "cell_type": "code",
   "execution_count": null,
   "metadata": {},
   "outputs": [],
   "source": [
    "len(set(patient_com_df['patient_id'].tolist())), len(set(patient_treat_df['patient_id'].tolist()))"
   ]
  },
  {
   "cell_type": "code",
   "execution_count": null,
   "metadata": {},
   "outputs": [],
   "source": [
    "patient_treat_df['EPISODE_DATE'] = pd.to_datetime(patient_treat_df['EPISODE_DATE'])\n",
    "patient_com_df['EPISODE_DATE'] = pd.to_datetime(patient_com_df['EPISODE_DATE'])\n",
    "\n",
    "patient_com_treat_df = pd.merge(patient_com_df, patient_treat_df,on=['patient_id', 'EPISODE_DATE'], how='outer')\n",
    "#pd.concat([patient_com_df, patient_treat_df], keys=['patient_id', 'EPISODE_DATE'], ignore_index=True, sort=False)  #patient_com_df.append(patient_treat_df, sort=False)  #pd.concat([patient_com_df, patient_treat_df], axis=0, sort=False)\n",
    "#patient_treat_com_df = patient_treat_df.join(patient_com_df, on=['patient_id', 'EPISODE_DATE'], how='outer')\n",
    "print (patient_com_treat_df.shape)\n",
    "print (len(set(patient_com_treat_df['patient_id'].tolist())))\n",
    "patient_com_treat_df.sort_values(by=['patient_id', 'EPISODE_DATE'],axis=0, inplace=True, ascending=True)\n",
    "patient_com_treat_df.reset_index(drop=True, inplace=True)\n",
    "patient_com_treat_df.head(10)"
   ]
  },
  {
   "cell_type": "code",
   "execution_count": null,
   "metadata": {},
   "outputs": [],
   "source": [
    "patient_com_treat_df.to_csv('../../../datalcdem/data/optima/optima_ahmad/patient_com_treat_df.csv')"
   ]
  },
  {
   "cell_type": "code",
   "execution_count": null,
   "metadata": {},
   "outputs": [],
   "source": [
    "folder_path = '../../../datalcdem/data/optima/dementia_18July/'"
   ]
  },
  {
   "cell_type": "code",
   "execution_count": null,
   "metadata": {},
   "outputs": [],
   "source": [
    "df_datarequest = pd.read_excel(folder_path+'Data_Request_Jan_2019_final.xlsx')\n",
    "df_datarequest.head(5)\n",
    "df_datarequest_mmse = df_datarequest[['GLOBAL_PATIENT_DB_ID', 'Age At Episode', 'EPISODE_DATE', 'CAMDEX SCORES: MINI MENTAL SCORE']]\n",
    "df_datarequest_mmse_1 = df_datarequest_mmse.rename(columns={'GLOBAL_PATIENT_DB_ID':'patient_id'})\n",
    "df_datarequest_mmse_1.head(10)"
   ]
  },
  {
   "cell_type": "code",
   "execution_count": null,
   "metadata": {},
   "outputs": [],
   "source": [
    "#patient_com_treat_df.astype('datetime')\n",
    "patient_com_treat_df['EPISODE_DATE'] = pd.to_datetime(patient_com_treat_df['EPISODE_DATE'])\n",
    "print (df_datarequest_mmse_1.dtypes, patient_com_treat_df.dtypes)\n",
    "patient_com_treat_df = pd.merge(patient_com_treat_df,df_datarequest_mmse_1,on=['patient_id', 'EPISODE_DATE'], how='left')\n",
    "patient_com_treat_df.shape, patient_com_treat_df.head(10)"
   ]
  },
  {
   "cell_type": "code",
   "execution_count": null,
   "metadata": {},
   "outputs": [],
   "source": [
    "len(set (patient_com_treat_df['patient_id'].tolist()))\n",
    "patient_com_treat_df.sort_values(by=['patient_id', 'EPISODE_DATE'],axis=0, inplace=True, ascending=True)\n",
    "patient_com_treat_df.head(20)\n",
    "patient_com_treat_df.reset_index(inplace=True, drop=True)\n",
    "patient_com_treat_df.head(5)"
   ]
  },
  {
   "cell_type": "code",
   "execution_count": null,
   "metadata": {},
   "outputs": [],
   "source": [
    "def setLineNumber(lst):\n",
    "    lst_dict = {ide:0 for ide in lst}\n",
    "    lineNumber_list = []\n",
    "    \n",
    "    for idx in lst:\n",
    "        if idx in lst_dict:\n",
    "           lst_dict[idx] = lst_dict[idx] + 1 \n",
    "           lineNumber_list.append(lst_dict[idx])\n",
    "            \n",
    "    return lineNumber_list\n",
    "    \n",
    "\n",
    "patient_com_treat_df['lineNumber'] = setLineNumber(patient_com_treat_df['patient_id'].tolist())\n",
    "patient_com_treat_df.tail(20)"
   ]
  },
  {
   "cell_type": "code",
   "execution_count": null,
   "metadata": {},
   "outputs": [],
   "source": [
    "df = patient_com_treat_df\n",
    "\n",
    "id_dict = {i:0 for i in df['patient_id'].tolist()}\n",
    "for x in df['patient_id'].tolist():\n",
    "    if x in id_dict:\n",
    "        id_dict[x]=id_dict[x]+1\n",
    "\n",
    "line_updated = [int(j) for i in id_dict.values() for j in range(1,i+1)]\n",
    "print (line_updated[0:10])\n",
    "df.update(pd.Series(line_updated, name='lineNumber'),errors='ignore')\n",
    "display(df.head(20))\n",
    "\n",
    "\n",
    "#patients merging based on id and creating new columns\n",
    "r = df['lineNumber'].max()\n",
    "print ('Max line:',r)\n",
    "l = [df[df['lineNumber']==i] for i in range(1, int(r+1))]\n",
    "print('Number of Dfs to merge: ',len(l))\n",
    "df_new = pd.DataFrame()\n",
    "tmp_id = []\n",
    "for i, df_l in enumerate(l):\n",
    "    df_l = df_l[~df_l['patient_id'].isin(tmp_id)]\n",
    "    for j, df_ll in enumerate(l[i+1:]):\n",
    "        #df_l = df_l.merge(df_ll, on='id', how='left', suffix=(str(j), str(j+1))) #suffixe is not working\n",
    "        #print (j)\n",
    "        df_l = df_l.join(df_ll.set_index('patient_id'), on='patient_id', rsuffix='_'+str(j+1))\n",
    "    tmp_id = tmp_id + df_l['patient_id'].tolist()\n",
    "    #display(df_l)\n",
    "    df_new = df_new.append(df_l, ignore_index=True, sort=False)\n",
    "display(df_new.head(20))\n",
    "display(df_new[['patient_id']+[col for col in df_new.columns if 'line' in col or 'DATE' in col]].head(10))"
   ]
  },
  {
   "cell_type": "code",
   "execution_count": null,
   "metadata": {},
   "outputs": [],
   "source": [
    "fltr_linnum = ['_'+str(i) for i in range(10, 27)]\n",
    "print (fltr_linnum)\n",
    "df_new.drop(columns=[col for col in df_new.columns for i in fltr_linnum if i in col],inplace=True)"
   ]
  },
  {
   "cell_type": "code",
   "execution_count": null,
   "metadata": {},
   "outputs": [],
   "source": [
    "df_new.to_csv(folder_path+'dementialTreatmentLine_preData_line_episode.csv', index=False)\n",
    "df_new = df_new.drop([col for col in df_new.columns if 'lineNumber' in col], axis=1).reset_index(drop=True)\n",
    "df_new.to_csv(folder_path+'dementialTreatmentLine_preData.csv', index=False)"
   ]
  },
  {
   "cell_type": "code",
   "execution_count": null,
   "metadata": {},
   "outputs": [],
   "source": [
    "# Calculate matching intial episode in the data\n",
    "\n",
    "''' df_episode= pd.read_csv('../../../datalcdem/data/optima/dementialTreatmentLine_preData_line_episode.csv')\n",
    "df_patients = pd.read_csv('../../../datalcdem/data/optima/patients.csv')\n",
    "display(df_episode.columns, df_patients.columns)\n",
    "\n",
    "df_pat_ep = pd.merge(df_episode[['patient_id', 'EPISODE_DATE']], df_patients[['patient_id', 'epDateInicial', 'mmseInicial']])\n",
    "\n",
    "df_episode.shape, df_patients.shape, df_pat_ep.shape\n",
    "\n",
    "df_pat_ep['dateEqual']=df_pat_ep['EPISODE_DATE']==df_pat_ep['epDateInicial']\n",
    "display(sum(df_pat_ep['dateEqual'].tolist()))\n",
    "df_pat_ep.head(10)\n",
    "display(sum(df_pat_ep['mmseInicial']<24))'''"
   ]
  },
  {
   "cell_type": "code",
   "execution_count": null,
   "metadata": {},
   "outputs": [],
   "source": [
    "df_new.head(10)"
   ]
  },
  {
   "cell_type": "code",
   "execution_count": null,
   "metadata": {},
   "outputs": [],
   "source": [
    "#### Calculate differnce beween patient API & Ahmad data\n",
    "df_diff = df_new[['patient_id']]\n",
    "\n",
    "df_patient_api = pd.read_csv(folder_path+'patients.csv')\n",
    "\n",
    "df_diff['patient_id_1'] = df_patient_api['patient_id']\n",
    "\n",
    "df_diff.head(10)"
   ]
  },
  {
   "cell_type": "code",
   "execution_count": null,
   "metadata": {},
   "outputs": [],
   "source": [
    "set_ahmad = set(df_new['patient_id'].tolist()) \n",
    "df_patient_api = pd.read_csv(folder_path+'patients_df.csv') \n",
    "set_api = set(df_patient_api['patient_id'].tolist()) \n",
    "print (set_ahmad.difference(set_api)) \n",
    "print (sorted(set_api.difference(set_ahmad)))\n",
    "list_val= sorted(set_api.difference(set_ahmad))\n",
    "\n",
    "df_patient_api[df_patient_api['patient_id'].isin(list_val)].head(10)"
   ]
  },
  {
   "cell_type": "code",
   "execution_count": null,
   "metadata": {},
   "outputs": [],
   "source": [
    "# Take Some other features from API\n",
    "df_patient_api = pd.read_csv(folder_path+'patients.csv')\n",
    "display(df_patient_api.head(10))\n",
    "df_patient_api = df_patient_api[['patient_id', 'gender', 'dementia', 'smoker', 'alcohol', 'education',\n",
    "       'bmi', 'weight', 'apoe']]\n",
    "display(df_patient_api.head(10))\n",
    "display(df_new.head(10))\n",
    "df_patient_new = df_patient_api.merge(df_new, on=['patient_id'], how='inner')\n",
    "df_patient_new.head(10)"
   ]
  },
  {
   "cell_type": "code",
   "execution_count": null,
   "metadata": {},
   "outputs": [],
   "source": [
    "df_patient_new.to_csv(folder_path+'patients_new.csv', index=False)"
   ]
  },
  {
   "cell_type": "code",
   "execution_count": null,
   "metadata": {},
   "outputs": [],
   "source": [
    "def removeNANvalues(lst):\n",
    "    return lst[~pd.isnull(lst)]\n",
    "\n",
    "comorbidity_cui_lst = list(set([y for x in removeNANvalues(df_patient_new[[col for col in df_patient_new.columns if 'Comorbidity_cui' in col]].values.flatten()) for y in x]))\n",
    "medication_cui_lst = list(set([y for x in removeNANvalues(df_patient_new[[col for col in df_patient_new.columns if 'Medication_cui' in col]].values.flatten()) for y in x]))\n",
    "\n",
    "with open(folder_path+'comorbidity_cui_lst.pkl', 'wb') as f:\n",
    "    pickle.dump(comorbidity_cui_lst, f)\n",
    "    \n",
    "with open(folder_path+'medication_cui_lst.pkl', 'wb') as f:\n",
    "    pickle.dump(medication_cui_lst, f)"
   ]
  },
  {
   "cell_type": "code",
   "execution_count": null,
   "metadata": {},
   "outputs": [],
   "source": []
  },
  {
   "cell_type": "code",
   "execution_count": null,
   "metadata": {},
   "outputs": [],
   "source": []
  },
  {
   "cell_type": "code",
   "execution_count": null,
   "metadata": {},
   "outputs": [],
   "source": []
  }
 ],
 "metadata": {
  "kernelspec": {
   "display_name": "Python 3",
   "language": "python",
   "name": "python3"
  },
  "language_info": {
   "codemirror_mode": {
    "name": "ipython",
    "version": 3
   },
   "file_extension": ".py",
   "mimetype": "text/x-python",
   "name": "python",
   "nbconvert_exporter": "python",
   "pygments_lexer": "ipython3",
   "version": "3.6.8"
  }
 },
 "nbformat": 4,
 "nbformat_minor": 4
}
